{
 "cells": [
  {
   "cell_type": "code",
   "execution_count": 1,
   "metadata": {
    "collapsed": true
   },
   "outputs": [],
   "source": [
    "import numpy as np\n",
    "import pandas as pd\n",
    "import os"
   ]
  },
  {
   "cell_type": "code",
   "execution_count": 4,
   "outputs": [],
   "source": [
    "DATA_DIR = '../dataset/BookCrossing-Rating2Ranking'\n",
    "raw_data = pd.read_csv(os.path.join(DATA_DIR, 'copy1.train'), header=None, delimiter=' ')\n",
    "raw_data.columns = ['userId', 'movieId', 'rating']\n",
    "# 保留4分及4分以上的数据\n",
    "raw_data = raw_data[raw_data['rating'] > 3.5]"
   ],
   "metadata": {
    "collapsed": false
   }
  },
  {
   "cell_type": "code",
   "execution_count": 5,
   "outputs": [
    {
     "name": "stdout",
     "output_type": "stream",
     "text": [
      "    userId  movieId  rating\n",
      "11    4716    14671     5.0\n",
      "19    9235    18042     5.0\n",
      "28    9380     9953     5.0\n",
      "31    1903     8427     5.0\n",
      "38    2351     2892     4.0\n"
     ]
    }
   ],
   "source": [
    "print(raw_data.head())"
   ],
   "metadata": {
    "collapsed": false
   }
  },
  {
   "cell_type": "code",
   "execution_count": 9,
   "outputs": [],
   "source": [
    "movie_id_list = list(set(raw_data['movieId'].to_list()))"
   ],
   "metadata": {
    "collapsed": false
   }
  },
  {
   "cell_type": "code",
   "execution_count": 12,
   "outputs": [
    {
     "name": "stdout",
     "output_type": "stream",
     "text": [
      "14491\n",
      "False\n"
     ]
    }
   ],
   "source": [
    "print(len(movie_id_list))\n",
    "print(9322 in movie_id_list)"
   ],
   "metadata": {
    "collapsed": false
   }
  },
  {
   "cell_type": "code",
   "execution_count": 11,
   "outputs": [
    {
     "name": "stdout",
     "output_type": "stream",
     "text": [
      "0       False\n",
      "1        True\n",
      "2        True\n",
      "3        True\n",
      "4        True\n",
      "        ...  \n",
      "5857     True\n",
      "5858     True\n",
      "5859    False\n",
      "5860     True\n",
      "5861     True\n",
      "Name: movieId, Length: 5862, dtype: bool\n"
     ]
    }
   ],
   "source": [
    "vad_data = pd.read_csv(os.path.join(DATA_DIR, 'copy1.valid5'), header=None, delimiter=' ')\n",
    "vad_data.columns = ['userId', 'movieId', 'rating']\n",
    "\n",
    "print(vad_data['movieId'].isin(movie_id_list))"
   ],
   "metadata": {
    "collapsed": false
   }
  },
  {
   "cell_type": "code",
   "execution_count": null,
   "outputs": [],
   "source": [],
   "metadata": {
    "collapsed": false
   }
  }
 ],
 "metadata": {
  "kernelspec": {
   "display_name": "Python 3",
   "language": "python",
   "name": "python3"
  },
  "language_info": {
   "codemirror_mode": {
    "name": "ipython",
    "version": 2
   },
   "file_extension": ".py",
   "mimetype": "text/x-python",
   "name": "python",
   "nbconvert_exporter": "python",
   "pygments_lexer": "ipython2",
   "version": "2.7.6"
  }
 },
 "nbformat": 4,
 "nbformat_minor": 0
}
