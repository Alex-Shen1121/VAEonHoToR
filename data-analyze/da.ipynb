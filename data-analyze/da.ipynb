{
 "cells": [
  {
   "cell_type": "code",
   "execution_count": 13,
   "metadata": {
    "collapsed": true
   },
   "outputs": [],
   "source": [
    "import numpy as np\n",
    "import pandas as pd\n",
    "import os"
   ]
  },
  {
   "cell_type": "code",
   "execution_count": 14,
   "outputs": [],
   "source": [
    "DATA_DIR = '../dataset/ML10M-ExplicitPositive4Ranking'\n",
    "raw_data = pd.read_csv(os.path.join(DATA_DIR, 'ML10M.ExplicitPositive4Ranking.copy1.explicit'), header=None, delimiter=' ')\n",
    "raw_data.columns = ['userId', 'movieId', 'rating']\n",
    "# 保留4分及4分以上的数据\n",
    "raw_data = raw_data[raw_data['rating'] > 3.5]"
   ],
   "metadata": {
    "collapsed": false
   }
  },
  {
   "cell_type": "code",
   "execution_count": 15,
   "outputs": [
    {
     "name": "stdout",
     "output_type": "stream",
     "text": [
      "    userId  movieId  rating\n",
      "4    65597     2913     5.0\n",
      "6    55877      585     4.0\n",
      "7    30903      353     4.0\n",
      "9    22815     2977     4.0\n",
      "10   31793     1874     5.0\n"
     ]
    }
   ],
   "source": [
    "print(raw_data.head())"
   ],
   "metadata": {
    "collapsed": false
   }
  },
  {
   "cell_type": "code",
   "execution_count": 16,
   "outputs": [],
   "source": [
    "movie_id_list = list(set(raw_data['movieId'].to_list()))"
   ],
   "metadata": {
    "collapsed": false
   }
  },
  {
   "cell_type": "code",
   "execution_count": 17,
   "outputs": [
    {
     "name": "stdout",
     "output_type": "stream",
     "text": [
      "9986\n",
      "True\n"
     ]
    }
   ],
   "source": [
    "print(len(movie_id_list))\n",
    "print(9322 in movie_id_list)"
   ],
   "metadata": {
    "collapsed": false
   }
  },
  {
   "cell_type": "code",
   "execution_count": 18,
   "outputs": [],
   "source": [
    "vad_data = pd.read_csv(os.path.join(DATA_DIR, 'ML10M.ExplicitPositive4Ranking.copy1.valid'), header=None, delimiter=' ')\n",
    "vad_data.columns = ['userId', 'movieId']"
   ],
   "metadata": {
    "collapsed": false
   }
  },
  {
   "cell_type": "code",
   "execution_count": 21,
   "outputs": [
    {
     "name": "stdout",
     "output_type": "stream",
     "text": [
      "56037\n"
     ]
    }
   ],
   "source": [
    "vad_user_list = list(set(vad_data['userId']))\n",
    "print(len(vad_user_list))"
   ],
   "metadata": {
    "collapsed": false
   }
  },
  {
   "cell_type": "code",
   "execution_count": 22,
   "outputs": [
    {
     "name": "stdout",
     "output_type": "stream",
     "text": [
      "69725\n"
     ]
    }
   ],
   "source": [
    "train_user_list = list(set(raw_data['userId']))\n",
    "print(len(train_user_list))"
   ],
   "metadata": {
    "collapsed": false
   }
  },
  {
   "cell_type": "code",
   "execution_count": 23,
   "outputs": [
    {
     "name": "stdout",
     "output_type": "stream",
     "text": [
      "56023\n"
     ]
    }
   ],
   "source": [
    "intersection = list(set(train_user_list).intersection(set(vad_user_list)))\n",
    "print(len(intersection))"
   ],
   "metadata": {
    "collapsed": false
   }
  },
  {
   "cell_type": "code",
   "execution_count": null,
   "outputs": [],
   "source": [],
   "metadata": {
    "collapsed": false
   }
  }
 ],
 "metadata": {
  "kernelspec": {
   "display_name": "Python 3",
   "language": "python",
   "name": "python3"
  },
  "language_info": {
   "codemirror_mode": {
    "name": "ipython",
    "version": 2
   },
   "file_extension": ".py",
   "mimetype": "text/x-python",
   "name": "python",
   "nbconvert_exporter": "python",
   "pygments_lexer": "ipython2",
   "version": "2.7.6"
  }
 },
 "nbformat": 4,
 "nbformat_minor": 0
}
